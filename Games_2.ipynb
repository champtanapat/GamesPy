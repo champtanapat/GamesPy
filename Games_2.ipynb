{
  "nbformat": 4,
  "nbformat_minor": 0,
  "metadata": {
    "colab": {
      "provenance": [],
      "collapsed_sections": [],
      "authorship_tag": "ABX9TyMDfYTHhLf9bkS0DuMaoY7W",
      "include_colab_link": true
    },
    "kernelspec": {
      "name": "python3",
      "display_name": "Python 3"
    },
    "language_info": {
      "name": "python"
    }
  },
  "cells": [
    {
      "cell_type": "markdown",
      "metadata": {
        "id": "view-in-github",
        "colab_type": "text"
      },
      "source": [
        "<a href=\"https://colab.research.google.com/github/champtanapat/GamesPy/blob/main/Games_2.ipynb\" target=\"_parent\"><img src=\"https://colab.research.google.com/assets/colab-badge.svg\" alt=\"Open In Colab\"/></a>"
      ]
    },
    {
      "cell_type": "markdown",
      "source": [
        "#เกมเป่ายิ้งฉุบ \n",
        "ชนะได้แต้ม\n",
        "แพ้ ทายลูกเต๋า หากตอบถูกได้เล่นต่อ \n",
        "หากตอบผิด Game Over "
      ],
      "metadata": {
        "id": "LXKWDRpgWjKo"
      }
    },
    {
      "cell_type": "code",
      "execution_count": null,
      "metadata": {
        "colab": {
          "base_uri": "https://localhost:8080/"
        },
        "id": "_r6n1iALQ62m",
        "outputId": "56c3eb61-6457-4580-b8fe-a630166bd3ae"
      },
      "outputs": [
        {
          "output_type": "stream",
          "name": "stdout",
          "text": [
            "Rock Paper Scissors?\n",
            "Paper\n",
            "Tie!\n",
            "Rock Paper Scissors?\n",
            "Rock\n",
            "You win! Rock smashes Scissors\n",
            "Rock Paper Scissors?\n",
            "Paper\n",
            "You win! Paper covers Rock\n",
            "Rock Paper Scissors?\n",
            "Rock\n",
            "Tie!\n",
            "Rock Paper Scissors?\n",
            "Paper\n",
            "Tie!\n",
            "Rock Paper Scissors?\n",
            "Rock\n",
            "You win! Rock smashes Scissors\n",
            "Rock Paper Scissors?\n",
            "Rock\n",
            "You lose! Paper covers Rock\n",
            "Let's guss the number on the dice face\n",
            "Type 1 if you think it's 1,2 or 3\n",
            "Type 2 if you think it's 4,5 or 6\n",
            "1\n",
            "You're right!\n",
            "Rock Paper Scissors?\n",
            "Rock\n",
            "You win! Rock smashes Scissors\n",
            "Rock Paper Scissors?\n",
            "Rock\n",
            "You win! Rock smashes Scissors\n",
            "Rock Paper Scissors?\n",
            "Scissors\n",
            "You win! Scissors cut Paper\n",
            "Rock Paper Scissors?\n",
            "Scissors\n",
            "Tie!\n",
            "Rock Paper Scissors?\n",
            "Scissors\n",
            "You win! Scissors cut Paper\n",
            "Rock Paper Scissors?\n",
            "Rock\n",
            "You lose! Paper covers Rock\n",
            "Let's guss the number on the dice face\n",
            "Type 1 if you think it's 1,2 or 3\n",
            "Type 2 if you think it's 4,5 or 6\n",
            "2\n",
            "Wrong answe! Game Over\n",
            "Game Over. Your score is 7\n"
          ]
        }
      ],
      "source": [
        "from random import randint \n",
        "play = [\"Rock\",\"Paper\",\"Scissors\"]\n",
        "dice = [1,2,3,4,5,6]\n",
        "score = 0 \n",
        "gameover = False\n",
        "play_dice = False\n",
        "\n",
        "\n",
        "while not gameover:\n",
        "  computer = play[randint(0,2)]\n",
        "  print(\"Rock\",\"Paper\",\"Scissors?\")\n",
        "  player = input().strip()\n",
        "\n",
        "  if player == computer:\n",
        "    print(\"Tie!\")\n",
        "  elif player == \"Rock\":\n",
        "    if computer == \"Paper\":\n",
        "      print(\"You lose!\",computer,\"covers\",player)\n",
        "      play_dice = True\n",
        "    else:\n",
        "      print(\"You win!\",player,\"smashes\",computer)\n",
        "      score += 1\n",
        "\n",
        "  elif player == \"Paper\":\n",
        "    if computer == \"Scissors\":\n",
        "      print(\"You lose!\",computer,\"cut\",player)\n",
        "      play_dice = True\n",
        "    else:\n",
        "      print(\"You win!\",player,\"covers\",computer)\n",
        "      score += 1\n",
        "  elif player == \"Scissors\":\n",
        "    if computer == \"Rock\":\n",
        "      print(\"You lose!\",computer,\"smashes\",player)\n",
        "      play_dice = True\n",
        "    else:\n",
        "      print(\"You win!\",player,\"cut\",computer)\n",
        "      score += 1 \n",
        "  else:\n",
        "    print(\"Invalid play. Please Type Rock/Paper/Scissors\")\n",
        "\n",
        "  if play_dice: \n",
        "    print(\"Let's guss the number on the dice face\")\n",
        "    number = dice[randint(0,5)]\n",
        "    print(\"Type 1 if you think it's 1,2 or 3\")\n",
        "    print(\"Type 2 if you think it's 4,5 or 6\")\n",
        "    guess = int(input().strip())\n",
        "\n",
        "    while guess != 1 and guess != 2 :\n",
        "      print(\"Invalid guess Please type 1 or 2 \")\n",
        "      guess = int(input().strip())\n",
        "    \n",
        "    if guess == 1:\n",
        "      if number <= 3:\n",
        "        print(\"You're right!\")\n",
        "        play_dice = False\n",
        "      else:\n",
        "        print(\"Worng answer! Game Over\")\n",
        "        gameover = True\n",
        "    else:\n",
        "      if number >=4:\n",
        "        print(\"You're right!\")\n",
        "        gameover = False\n",
        "      else:\n",
        "        print(\"Wrong answe! Game Over\")\n",
        "        gameover = True\n",
        "\n",
        "print(\"Game Over. Your score is\",score)\n",
        "\n",
        "#print(\"Score:\",score)\n",
        "  \n",
        "\n"
      ]
    },
    {
      "cell_type": "code",
      "source": [],
      "metadata": {
        "id": "xnTZPDzJR5wz"
      },
      "execution_count": null,
      "outputs": []
    }
  ]
}